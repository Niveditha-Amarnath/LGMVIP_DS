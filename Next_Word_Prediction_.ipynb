{
  "nbformat": 4,
  "nbformat_minor": 0,
  "metadata": {
    "colab": {
      "provenance": [],
      "authorship_tag": "ABX9TyOVkyh/CaNfAAQqxOKpi9TR",
      "include_colab_link": true
    },
    "kernelspec": {
      "name": "python3",
      "display_name": "Python 3"
    },
    "language_info": {
      "name": "python"
    }
  },
  "cells": [
    {
      "cell_type": "markdown",
      "metadata": {
        "id": "view-in-github",
        "colab_type": "text"
      },
      "source": [
        "<a href=\"https://colab.research.google.com/github/Niveditha-Amarnath/LGMVIP_DS/blob/main/Next_Word_Prediction_.ipynb\" target=\"_parent\"><img src=\"https://colab.research.google.com/assets/colab-badge.svg\" alt=\"Open In Colab\"/></a>"
      ]
    },
    {
      "cell_type": "markdown",
      "source": [
        "### Next Word Prediction:"
      ],
      "metadata": {
        "id": "3_pA7_E_ja3r"
      }
    },
    {
      "cell_type": "code",
      "execution_count": null,
      "metadata": {
        "id": "EyunOVTljZv5"
      },
      "outputs": [],
      "source": [
        "#Importing packages\n",
        "import numpy as np\n",
        "np.random.seed(42)\n",
        "import tensorflow as tf\n",
        "tf.random.set_seed(42)\n",
        " \n",
        "from tensorflow.keras.models import Sequential, load_model\n",
        "from tensorflow.keras.layers import Dense, Activation\n",
        "from tensorflow.keras.layers import LSTM, Dropout\n",
        "from tensorflow.keras.layers import TimeDistributed\n",
        "from tensorflow.keras.layers import Dense, Activation, Dropout, RepeatVector\n",
        "from tensorflow.keras.optimizers import  RMSprop\n",
        "import matplotlib.pyplot as plt\n",
        "import pickle\n",
        "import heapq"
      ]
    },
    {
      "cell_type": "code",
      "source": [
        "#Loading the data\n",
        "path = '1661-0.txt'\n",
        "text = open(path,encoding = \"utf8\").read().lower()\n",
        "print('corpus length:', len(text))"
      ],
      "metadata": {
        "colab": {
          "base_uri": "https://localhost:8080/"
        },
        "id": "CH3ltgvPjjzb",
        "outputId": "5af6ccd7-3f18-49c9-b9b1-001b39adfe66"
      },
      "execution_count": null,
      "outputs": [
        {
          "output_type": "stream",
          "name": "stdout",
          "text": [
            "corpus length: 581888\n"
          ]
        }
      ]
    },
    {
      "cell_type": "code",
      "source": [
        "#Data Preprocessing\n",
        "character = sorted(list(set(text)))\n",
        "char_indices = dict((c, i) for i, c in enumerate(character))\n",
        "indices_char = dict((i, c) for i, c in enumerate(character))\n",
        " \n",
        "print(f'unique chars: {len(character)}')"
      ],
      "metadata": {
        "colab": {
          "base_uri": "https://localhost:8080/"
        },
        "id": "ibh-jcAljj2Z",
        "outputId": "0a2bc15c-00b8-4db4-ab4d-84a3af5e0976"
      },
      "execution_count": null,
      "outputs": [
        {
          "output_type": "stream",
          "name": "stdout",
          "text": [
            "unique chars: 73\n"
          ]
        }
      ]
    },
    {
      "cell_type": "code",
      "source": [
        "#chunk 40 characters with 3 sequences\n",
        "seq_len = 40\n",
        "step = 3\n",
        "sentences = []\n",
        "next_chars = []\n",
        "for i in range(0, len(text) - seq_len, step):\n",
        "    sentences.append(text[i: i + seq_len ])\n",
        "    next_chars.append(text[i + seq_len])\n",
        "print(f'num training examples: {len(sentences)}')"
      ],
      "metadata": {
        "colab": {
          "base_uri": "https://localhost:8080/"
        },
        "id": "KFKkCQSwjj5z",
        "outputId": "6de35b82-2d62-4b2c-e190-5294eceb1fae"
      },
      "execution_count": null,
      "outputs": [
        {
          "output_type": "stream",
          "name": "stdout",
          "text": [
            "num training examples: 193950\n"
          ]
        }
      ]
    },
    {
      "cell_type": "code",
      "source": [
        "# generating our features and labels\n",
        "#one hot encoding\n",
        "X = np.zeros((len(sentences), seq_len, len(character)), dtype=np.bool)\n",
        "y = np.zeros((len(sentences), len(character)), dtype=np.bool)\n",
        "for i, sentence in enumerate(sentences):\n",
        "    for t, char in enumerate(sentence):\n",
        "        X[i, t, char_indices[char]] = 1\n",
        "    y[i, char_indices[next_chars[i]]] = 1\n",
        "\n",
        "sentences[124]\n",
        "next_chars[100]"
      ],
      "metadata": {
        "colab": {
          "base_uri": "https://localhost:8080/",
          "height": 160
        },
        "id": "JlTSJw2-jj-v",
        "outputId": "68292595-41eb-4962-f276-448dfd76c6b2"
      },
      "execution_count": null,
      "outputs": [
        {
          "output_type": "stream",
          "name": "stderr",
          "text": [
            "<ipython-input-8-2f2383d5361d>:3: DeprecationWarning: `np.bool` is a deprecated alias for the builtin `bool`. To silence this warning, use `bool` by itself. Doing this will not modify any behavior and is safe. If you specifically wanted the numpy scalar type, use `np.bool_` here.\n",
            "Deprecated in NumPy 1.20; for more details and guidance: https://numpy.org/devdocs/release/1.20.0-notes.html#deprecations\n",
            "  X = np.zeros((len(sentences), seq_len, len(character)), dtype=np.bool)\n",
            "<ipython-input-8-2f2383d5361d>:4: DeprecationWarning: `np.bool` is a deprecated alias for the builtin `bool`. To silence this warning, use `bool` by itself. Doing this will not modify any behavior and is safe. If you specifically wanted the numpy scalar type, use `np.bool_` here.\n",
            "Deprecated in NumPy 1.20; for more details and guidance: https://numpy.org/devdocs/release/1.20.0-notes.html#deprecations\n",
            "  y = np.zeros((len(sentences), len(character)), dtype=np.bool)\n"
          ]
        },
        {
          "output_type": "execute_result",
          "data": {
            "text/plain": [
              "'e'"
            ],
            "application/vnd.google.colaboratory.intrinsic+json": {
              "type": "string"
            }
          },
          "metadata": {},
          "execution_count": 8
        }
      ]
    },
    {
      "cell_type": "code",
      "source": [
        "#one hot encoded data\n",
        "X[0][0]"
      ],
      "metadata": {
        "colab": {
          "base_uri": "https://localhost:8080/"
        },
        "id": "qHblafdXjkBP",
        "outputId": "066dfcd1-8974-4ffa-b701-fdaf53fb6559"
      },
      "execution_count": null,
      "outputs": [
        {
          "output_type": "execute_result",
          "data": {
            "text/plain": [
              "array([False, False, False, False, False, False, False, False, False,\n",
              "       False, False, False, False, False, False, False, False, False,\n",
              "       False, False, False, False, False, False, False, False, False,\n",
              "       False, False, False, False, False, False, False, False, False,\n",
              "       False, False, False, False, False, False, False, False, False,\n",
              "       False, False, False, False, False, False, False, False, False,\n",
              "       False, False, False, False, False, False, False, False, False,\n",
              "       False, False, False, False, False, False, False, False, False,\n",
              "        True])"
            ]
          },
          "metadata": {},
          "execution_count": 9
        }
      ]
    },
    {
      "cell_type": "code",
      "source": [
        "#one hot encoded data\n",
        "y[0]"
      ],
      "metadata": {
        "colab": {
          "base_uri": "https://localhost:8080/"
        },
        "id": "IJ1XmV9_jx4F",
        "outputId": "86cf0765-d093-4905-8cf5-aa7e639807d4"
      },
      "execution_count": null,
      "outputs": [
        {
          "output_type": "execute_result",
          "data": {
            "text/plain": [
              "array([False, False, False, False, False, False, False, False, False,\n",
              "       False, False, False, False, False, False, False, False, False,\n",
              "       False, False, False, False, False, False, False, False, False,\n",
              "       False, False, False, False, False, False, False, False, False,\n",
              "       False, False, False, False, False, False, False, False, False,\n",
              "       False, False, False, False, False, False,  True, False, False,\n",
              "       False, False, False, False, False, False, False, False, False,\n",
              "       False, False, False, False, False, False, False, False, False,\n",
              "       False])"
            ]
          },
          "metadata": {},
          "execution_count": 10
        }
      ]
    },
    {
      "cell_type": "code",
      "source": [
        "X.shape"
      ],
      "metadata": {
        "colab": {
          "base_uri": "https://localhost:8080/"
        },
        "id": "YqtoNZqBjx6q",
        "outputId": "eacdee6e-77fc-4b62-eaf9-6c3837cc9c98"
      },
      "execution_count": null,
      "outputs": [
        {
          "output_type": "execute_result",
          "data": {
            "text/plain": [
              "(193950, 40, 73)"
            ]
          },
          "metadata": {},
          "execution_count": 11
        }
      ]
    },
    {
      "cell_type": "code",
      "source": [
        "y.shape"
      ],
      "metadata": {
        "colab": {
          "base_uri": "https://localhost:8080/"
        },
        "id": "IYrYrD4Bjx9g",
        "outputId": "ca8adbbd-212d-4e20-d5fa-fbe453097117"
      },
      "execution_count": null,
      "outputs": [
        {
          "output_type": "execute_result",
          "data": {
            "text/plain": [
              "(193950, 73)"
            ]
          },
          "metadata": {},
          "execution_count": 12
        }
      ]
    },
    {
      "cell_type": "code",
      "source": [
        "\n",
        "\n",
        "# Creating the model\n",
        "model = Sequential()\n",
        "model.add(LSTM(128, input_shape=(seq_len, len(character))))\n",
        "model.add(Dense(len(character)))\n",
        "model.add(Activation('softmax'))"
      ],
      "metadata": {
        "id": "ElMwotH8jyAQ"
      },
      "execution_count": null,
      "outputs": []
    },
    {
      "cell_type": "code",
      "source": [
        "model.summary()\n",
        "from tensorflow.keras.utils import plot_model\n",
        "plot_model(model, show_shapes=True, to_file='model.png')"
      ],
      "metadata": {
        "colab": {
          "base_uri": "https://localhost:8080/",
          "height": 682
        },
        "id": "JRb-OE-Qj6pF",
        "outputId": "fd2ad503-0207-4c22-985c-52ed7937927f"
      },
      "execution_count": null,
      "outputs": [
        {
          "output_type": "stream",
          "name": "stdout",
          "text": [
            "Model: \"sequential\"\n",
            "_________________________________________________________________\n",
            " Layer (type)                Output Shape              Param #   \n",
            "=================================================================\n",
            " lstm (LSTM)                 (None, 128)               103424    \n",
            "                                                                 \n",
            " dense (Dense)               (None, 73)                9417      \n",
            "                                                                 \n",
            " activation (Activation)     (None, 73)                0         \n",
            "                                                                 \n",
            "=================================================================\n",
            "Total params: 112,841\n",
            "Trainable params: 112,841\n",
            "Non-trainable params: 0\n",
            "_________________________________________________________________\n"
          ]
        },
        {
          "output_type": "execute_result",
          "data": {
            "image/png": "[encoded data removed]",
            "text/plain": [
              "<IPython.core.display.Image object>"
            ]
          },
          "metadata": {},
          "execution_count": 14
        }
      ]
    },
    {
      "cell_type": "code",
      "source": [
        "# Training our model\n",
        "optimizer = RMSprop(learning_rate=0.01)\n",
        "model.compile(loss='categorical_crossentropy', optimizer=optimizer, metrics=['accuracy'])\n",
        "history = model.fit(X, y,\n",
        "                    validation_split=0.01, \n",
        "                    batch_size=128,\n",
        "                    epochs=30, \n",
        "                    shuffle=True).history"
      ],
      "metadata": {
        "colab": {
          "base_uri": "https://localhost:8080/"
        },
        "id": "PviARgbej6sE",
        "outputId": "8d266c3b-2677-4967-9386-db6fdbb09f82"
      },
      "execution_count": null,
      "outputs": [
        {
          "output_type": "stream",
          "name": "stdout",
          "text": [
            "Epoch 1/30\n",
            "1501/1501 [==============================] - 197s 129ms/step - loss: 1.9429 - accuracy: 0.4282 - val_loss: 2.1943 - val_accuracy: 0.3928\n",
            "Epoch 2/30\n",
            "1501/1501 [==============================] - 192s 128ms/step - loss: 1.6113 - accuracy: 0.5177 - val_loss: 2.1423 - val_accuracy: 0.4289\n",
            "Epoch 3/30\n",
            "1501/1501 [==============================] - 195s 130ms/step - loss: 1.5174 - accuracy: 0.5433 - val_loss: 2.0342 - val_accuracy: 0.4459\n",
            "Epoch 4/30\n",
            "1501/1501 [==============================] - 198s 132ms/step - loss: 1.4680 - accuracy: 0.5569 - val_loss: 1.9917 - val_accuracy: 0.4732\n",
            "Epoch 5/30\n",
            "1501/1501 [==============================] - 194s 129ms/step - loss: 1.4366 - accuracy: 0.5653 - val_loss: 1.9725 - val_accuracy: 0.4753\n",
            "Epoch 6/30\n",
            "1501/1501 [==============================] - 195s 130ms/step - loss: 1.4117 - accuracy: 0.5718 - val_loss: 1.9462 - val_accuracy: 0.4691\n",
            "Epoch 7/30\n",
            "1501/1501 [==============================] - 195s 130ms/step - loss: 1.3943 - accuracy: 0.5765 - val_loss: 1.9749 - val_accuracy: 0.4644\n",
            "Epoch 8/30\n",
            "1501/1501 [==============================] - 192s 128ms/step - loss: 1.3811 - accuracy: 0.5802 - val_loss: 1.9871 - val_accuracy: 0.4722\n",
            "Epoch 9/30\n",
            "1501/1501 [==============================] - 192s 128ms/step - loss: 1.3691 - accuracy: 0.5833 - val_loss: 1.9736 - val_accuracy: 0.4660\n",
            "Epoch 10/30\n",
            "1501/1501 [==============================] - 194s 129ms/step - loss: 1.3594 - accuracy: 0.5863 - val_loss: 2.0104 - val_accuracy: 0.4660\n",
            "Epoch 11/30\n",
            "1501/1501 [==============================] - 194s 129ms/step - loss: 1.3496 - accuracy: 0.5893 - val_loss: 2.0867 - val_accuracy: 0.4696\n",
            "Epoch 12/30\n",
            "1501/1501 [==============================] - 194s 130ms/step - loss: 1.3391 - accuracy: 0.5912 - val_loss: 1.9907 - val_accuracy: 0.4804\n",
            "Epoch 13/30\n",
            "1501/1501 [==============================] - 194s 129ms/step - loss: 1.3340 - accuracy: 0.5926 - val_loss: 2.0344 - val_accuracy: 0.4784\n",
            "Epoch 14/30\n",
            "1501/1501 [==============================] - 196s 130ms/step - loss: 1.3267 - accuracy: 0.5947 - val_loss: 2.0482 - val_accuracy: 0.4696\n",
            "Epoch 15/30\n",
            "1501/1501 [==============================] - 196s 131ms/step - loss: 1.3186 - accuracy: 0.5960 - val_loss: 2.0175 - val_accuracy: 0.4758\n",
            "Epoch 16/30\n",
            "1501/1501 [==============================] - 195s 130ms/step - loss: 1.3146 - accuracy: 0.5972 - val_loss: 2.0327 - val_accuracy: 0.4696\n",
            "Epoch 17/30\n",
            "1501/1501 [==============================] - 197s 131ms/step - loss: 1.3099 - accuracy: 0.5982 - val_loss: 2.0197 - val_accuracy: 0.4871\n",
            "Epoch 18/30\n",
            "1501/1501 [==============================] - 196s 131ms/step - loss: 1.3046 - accuracy: 0.6001 - val_loss: 2.0409 - val_accuracy: 0.4784\n",
            "Epoch 19/30\n",
            "1501/1501 [==============================] - 202s 135ms/step - loss: 1.3009 - accuracy: 0.6011 - val_loss: 2.0276 - val_accuracy: 0.4912\n",
            "Epoch 20/30\n",
            "1501/1501 [==============================] - 196s 131ms/step - loss: 1.2977 - accuracy: 0.6018 - val_loss: 2.0627 - val_accuracy: 0.4696\n",
            "Epoch 21/30\n",
            "1501/1501 [==============================] - 194s 130ms/step - loss: 1.2929 - accuracy: 0.6027 - val_loss: 2.0721 - val_accuracy: 0.4722\n",
            "Epoch 22/30\n",
            "1501/1501 [==============================] - 194s 129ms/step - loss: 1.2871 - accuracy: 0.6048 - val_loss: 2.0594 - val_accuracy: 0.4799\n",
            "Epoch 23/30\n",
            "1501/1501 [==============================] - 196s 130ms/step - loss: 1.2857 - accuracy: 0.6056 - val_loss: 2.0309 - val_accuracy: 0.4820\n",
            "Epoch 24/30\n",
            "1501/1501 [==============================] - 195s 130ms/step - loss: 1.2837 - accuracy: 0.6054 - val_loss: 2.0463 - val_accuracy: 0.5000\n",
            "Epoch 25/30\n",
            "1501/1501 [==============================] - 196s 131ms/step - loss: 1.2796 - accuracy: 0.6066 - val_loss: 2.0633 - val_accuracy: 0.4876\n",
            "Epoch 26/30\n",
            "1501/1501 [==============================] - 196s 130ms/step - loss: 1.2754 - accuracy: 0.6081 - val_loss: 2.0679 - val_accuracy: 0.4804\n",
            "Epoch 27/30\n",
            "1501/1501 [==============================] - 196s 131ms/step - loss: 1.2726 - accuracy: 0.6076 - val_loss: 2.0917 - val_accuracy: 0.4660\n",
            "Epoch 28/30\n",
            "1501/1501 [==============================] - 196s 130ms/step - loss: 1.2701 - accuracy: 0.6092 - val_loss: 2.0765 - val_accuracy: 0.4876\n",
            "Epoch 29/30\n",
            "1501/1501 [==============================] - 194s 129ms/step - loss: 1.2684 - accuracy: 0.6098 - val_loss: 2.1106 - val_accuracy: 0.4722\n",
            "Epoch 30/30\n",
            "1501/1501 [==============================] - 195s 130ms/step - loss: 1.2636 - accuracy: 0.6111 - val_loss: 2.1079 - val_accuracy: 0.4737\n"
          ]
        }
      ]
    },
    {
      "cell_type": "code",
      "source": [
        "#saving our model\n",
        "model.save('keras_model.h5')\n",
        "pickle.dump(history, open(\"history.p\", \"wb\"))"
      ],
      "metadata": {
        "id": "o3r-zA0Kj6u8"
      },
      "execution_count": null,
      "outputs": []
    },
    {
      "cell_type": "code",
      "source": [
        "#loading our model\n",
        "model = load_model('keras_model.h5')\n",
        "history = pickle.load(open(\"history.p\", \"rb\"))"
      ],
      "metadata": {
        "id": "rGbGig_Cj6xm"
      },
      "execution_count": null,
      "outputs": []
    },
    {
      "cell_type": "code",
      "source": [
        "#Model Evaluation\n",
        "loss_and_acc=model.evaluate(X,y)\n",
        "print(\"Test Loss\", loss_and_acc[0])\n",
        "print(\"Test Accuracy\", loss_and_acc[1])"
      ],
      "metadata": {
        "colab": {
          "base_uri": "https://localhost:8080/"
        },
        "id": "uBvtn3jgj60s",
        "outputId": "d2c62f94-4cab-4da6-a0de-b68b3994d712"
      },
      "execution_count": null,
      "outputs": [
        {
          "output_type": "stream",
          "name": "stdout",
          "text": [
            "6061/6061 [==============================] - 138s 23ms/step - loss: 1.2256 - accuracy: 0.6224\n",
            "Test Loss 1.2255723476409912\n",
            "Test Accuracy 0.6224026679992676\n"
          ]
        }
      ]
    },
    {
      "cell_type": "code",
      "source": [
        "acc = history['accuracy']\n",
        "val_acc = history['val_accuracy']\n",
        "loss = history['loss']\n",
        "val_loss = history['val_loss']\n",
        "epochs = range(len(acc))\n",
        "\n",
        "\n",
        "\n",
        "fig, ax = plt.subplots(nrows=1, ncols=2, figsize=(20, 6))\n",
        "ax[0].plot(epochs, acc, 'r', label='Training accuracy')\n",
        "ax[0].plot(epochs, val_acc, 'b', label='Validation accuracy')\n",
        "ax[0].legend(loc=0)\n",
        "ax[1].plot(epochs, loss, 'r', label='Training loss')\n",
        "ax[1].plot(epochs, val_loss, 'b', label='Validation loss')\n",
        "ax[1].legend(loc=0)\n",
        "\n",
        "plt.suptitle('Training and validation')\n",
        "plt.show()"
      ],
      "metadata": {
        "colab": {
          "base_uri": "https://localhost:8080/",
          "height": 401
        },
        "id": "n0OMjePFkFd4",
        "outputId": "a058ccf2-395d-49c1-c125-ebd388dce8d2"
      },
      "execution_count": null,
      "outputs": [
        {
          "output_type": "display_data",
          "data": {
            "text/plain": [
              "<Figure size 1440x432 with 2 Axes>"
            ],
            "image/png": "[encoded data removed]"
          },
          "metadata": {
            "needs_background": "light"
          }
        }
      ]
    },
    {
      "cell_type": "code",
      "source": [
        "def prepare_input(text):\n",
        "    x = np.zeros((1, seq_len, len(character)))\n",
        "    for t, char in enumerate(text):\n",
        "        x[0, t, char_indices[char]] = 1.\n",
        "        \n",
        "    return x\n",
        "\n",
        "prepare_input(\"This is an example of input of our model\".lower())"
      ],
      "metadata": {
        "colab": {
          "base_uri": "https://localhost:8080/"
        },
        "id": "nfcz9OLukFgf",
        "outputId": "fba91514-2bb9-4125-c2a8-04c9b5aeaa45"
      },
      "execution_count": null,
      "outputs": [
        {
          "output_type": "execute_result",
          "data": {
            "text/plain": [
              "array([[[0., 0., 0., ..., 0., 0., 0.],\n",
              "        [0., 0., 0., ..., 0., 0., 0.],\n",
              "        [0., 0., 0., ..., 0., 0., 0.],\n",
              "        ...,\n",
              "        [0., 0., 0., ..., 0., 0., 0.],\n",
              "        [0., 0., 0., ..., 0., 0., 0.],\n",
              "        [0., 0., 0., ..., 0., 0., 0.]]])"
            ]
          },
          "metadata": {},
          "execution_count": 20
        }
      ]
    },
    {
      "cell_type": "code",
      "source": [
        "#functions to get next probable characters\n",
        "def sample(preds, top_n=3):\n",
        "    preds = np.asarray(preds).astype('float64')\n",
        "    preds = np.log(preds)\n",
        "    exp_preds = np.exp(preds)\n",
        "    preds = exp_preds / np.sum(exp_preds)\n",
        "    \n",
        "    return heapq.nlargest(top_n, range(len(preds)), preds.take)"
      ],
      "metadata": {
        "id": "v8VnJAHCkFiu"
      },
      "execution_count": null,
      "outputs": []
    },
    {
      "cell_type": "code",
      "source": [
        "def predict_completion(text):\n",
        "    original_text = text\n",
        "    generated = text\n",
        "    completion = ''\n",
        "    while True:\n",
        "        x = prepare_input(text)\n",
        "        preds = model.predict(x, verbose=0)[0]\n",
        "        next_index = sample(preds, top_n=1)[0]\n",
        "        next_char = indices_char[next_index]\n",
        "        text = text[1:] + next_char\n",
        "        completion += next_char\n",
        "        \n",
        "        if len(original_text + completion) + 2 > len(original_text) and next_char == ' ':\n",
        "            return completion"
      ],
      "metadata": {
        "id": "w_G3ADJYkFlY"
      },
      "execution_count": null,
      "outputs": []
    },
    {
      "cell_type": "code",
      "source": [
        "def predict_completions(text, n=3):\n",
        "    x = prepare_input(text)\n",
        "    preds = model.predict(x, verbose=0)[0]\n",
        "    next_indices = sample(preds, n)\n",
        "    return [indices_char[idx] + predict_completion(text[1:] + indices_char[idx]) for idx in next_indices]"
      ],
      "metadata": {
        "id": "OMWOVwHtkFnl"
      },
      "execution_count": null,
      "outputs": []
    },
    {
      "cell_type": "code",
      "source": [
        "#Prediction\n",
        "quotes = [   \n",
        "    \"Deep learning is subset of machine learning,which is essentially a neural network with three or more layers.\",\n",
        "    \"Machine learning  is the study of computer algorithms that improve automatically through experience and by the use of data.\",\n",
        "    \"It is not a lack of love, but a lack of friendship that makes unhappy marriages.\",\n",
        "    \"Recurrent neural network (RNN) is a type of artificial neural network which uses sequential data or time series data.\",\n",
        "    \"Thanks for spending your precious time to view my work.\"  \n",
        "    \n",
        "]"
      ],
      "metadata": {
        "id": "UIDC5DDckQXG"
      },
      "execution_count": null,
      "outputs": []
    },
    {
      "cell_type": "code",
      "source": [
        "for q in quotes:\n",
        "    seq = q[:40].lower()\n",
        "    print(seq)\n",
        "    print(predict_completions(seq, 5))\n",
        "    print()"
      ],
      "metadata": {
        "colab": {
          "base_uri": "https://localhost:8080/"
        },
        "id": "d2zV3Z7okQZm",
        "outputId": "133c281b-f52e-4a22-abc4-d77d6064463b"
      },
      "execution_count": null,
      "outputs": [
        {
          "output_type": "stream",
          "name": "stdout",
          "text": [
            "deep learning is subset of machine learn\n",
            "['ess ', ' the ', 'ing ', 'ts ', 'ood ']\n",
            "\n",
            "machine learning  is the study of comput\n",
            "['ion. ', 'e ', 'ter ', 'ation.”\\n\\n“i ', 'hotance ']\n",
            "\n",
            "it is not a lack of love, but a lack of \n",
            "['the ', 'my ', 'his ', 'your ', 'a ']\n",
            "\n",
            "recurrent neural network (rnn) is a type\n",
            "['writing-passion ', 'ble ', 'le ', 'ction ', 'mery ']\n",
            "\n",
            "thanks for spending your precious time t\n",
            "['hat ', 'o ', 'ime ', 'radened ', 'en ']\n",
            "\n"
          ]
        }
      ]
    }
  ]
}